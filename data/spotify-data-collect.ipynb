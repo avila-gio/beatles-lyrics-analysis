{
 "cells": [
  {
   "cell_type": "code",
   "execution_count": 185,
   "id": "1571592a",
   "metadata": {},
   "outputs": [],
   "source": [
    "import pandas as pd\n",
    "import spotipy\n",
    "from spotipy.oauth2 import SpotifyClientCredentials\n",
    "from bs4 import BeautifulSoup\n",
    "import requests\n",
    "from datetime import datetime\n",
    "from dotenv import load_dotenv\n",
    "import os\n",
    "\n",
    "load_dotenv()\n",
    "\n",
    "CID = os.environ.get(\"CLIENT_ID\")\n",
    "SECRET = os.environ.get(\"CLIENT_SECRET\")"
   ]
  },
  {
   "cell_type": "code",
   "execution_count": 198,
   "id": "b93a5818",
   "metadata": {},
   "outputs": [],
   "source": [
    "def spotify_auth_obj():\n",
    "    client_credentials_manager = SpotifyClientCredentials(client_id=CID, client_secret=SECRET)\n",
    "    return spotipy.Spotify(client_credentials_manager = client_credentials_manager)"
   ]
  },
  {
   "cell_type": "code",
   "execution_count": 225,
   "id": "8ca62c87",
   "metadata": {},
   "outputs": [],
   "source": [
    "def get_albums(artist, spotify_obj):\n",
    "    artist_id = spotify_obj.search(q=artist, type='artist')['artists']['items'][0]['id']\n",
    "    return spotify_obj.artist_albums(artist_id=artist_id, limit=50, album_type='album')"
   ]
  },
  {
   "cell_type": "code",
   "execution_count": 250,
   "id": "f0d9aaf3",
   "metadata": {},
   "outputs": [],
   "source": [
    "def discography_df(albumns, spotify, end=None):\n",
    "    track_list = []\n",
    "    album_list = []\n",
    "    \n",
    "    date = end if end!=None else '2021'\n",
    "    \n",
    "    for album in albums['items'][::-1]:\n",
    "        if album['release_date'][:4] < date:\n",
    "            tracks = sp.album_tracks(album['id'])\n",
    "            for track in tracks['items']:\n",
    "                album_list.append(album['name'])\n",
    "                track_list.append(track['name'])\n",
    "    \n",
    "    return pd.DataFrame({        \n",
    "        'album':album_list,\n",
    "        'track':track_list})"
   ]
  },
  {
   "cell_type": "code",
   "execution_count": 203,
   "id": "9c90df75",
   "metadata": {},
   "outputs": [],
   "source": [
    "sp = spotify_auth_obj()"
   ]
  },
  {
   "cell_type": "code",
   "execution_count": 254,
   "id": "c18dceb0",
   "metadata": {},
   "outputs": [],
   "source": [
    "albums = get_albums(\"Cat Stevens\", sp)"
   ]
  },
  {
   "cell_type": "code",
   "execution_count": 255,
   "id": "4fd7a8d1",
   "metadata": {},
   "outputs": [],
   "source": [
    "discography = discography_df(albums, sp)"
   ]
  },
  {
   "cell_type": "code",
   "execution_count": 257,
   "id": "4791226e",
   "metadata": {},
   "outputs": [
    {
     "data": {
      "text/plain": [
       "array(['Matthew & Son', 'New Masters',\n",
       "       'Mona Bone Jakon (Remastered 2020)',\n",
       "       'Tea For The Tillerman (Remastered 2020)',\n",
       "       'Teaser And The Firecat (Remastered 2021)', 'Catch Bull At Four',\n",
       "       'Foreigner', 'Buddha And The Chocolate Box', 'Numbers', 'Izitso',\n",
       "       'Back to Earth (2019 Remaster)', 'Bakarım, Görürüm',\n",
       "       'Majikat Earth Tour 1976', 'An Other Cup', 'Roadsinger',\n",
       "       \"Tell 'Em I'm Gone\", 'The Laughing Apple',\n",
       "       'Tea For The Tillerman²', 'Tea For The Tillerman (Super Deluxe)',\n",
       "       'Mona Bone Jakon (Super Deluxe)'], dtype=object)"
      ]
     },
     "execution_count": 257,
     "metadata": {},
     "output_type": "execute_result"
    }
   ],
   "source": [
    "discography.album.unique()"
   ]
  }
 ],
 "metadata": {
  "kernelspec": {
   "display_name": "Python 3",
   "language": "python",
   "name": "python3"
  },
  "language_info": {
   "codemirror_mode": {
    "name": "ipython",
    "version": 3
   },
   "file_extension": ".py",
   "mimetype": "text/x-python",
   "name": "python",
   "nbconvert_exporter": "python",
   "pygments_lexer": "ipython3",
   "version": "3.8.8"
  }
 },
 "nbformat": 4,
 "nbformat_minor": 5
}
